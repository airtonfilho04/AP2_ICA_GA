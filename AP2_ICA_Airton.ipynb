{
  "nbformat": 4,
  "nbformat_minor": 0,
  "metadata": {
    "colab": {
      "name": "AP2_ICA_Airton.ipynb",
      "provenance": [],
      "collapsed_sections": []
    },
    "kernelspec": {
      "name": "python3",
      "display_name": "Python 3"
    },
    "language_info": {
      "name": "python"
    }
  },
  "cells": [
    {
      "cell_type": "markdown",
      "metadata": {
        "id": "Y6RB4E6zY-8u"
      },
      "source": [
        "# Case study: maintenance scheduling with genetic algorithms"
      ]
    },
    {
      "cell_type": "markdown",
      "metadata": {
        "id": "ViMNDCJ6ZEQb"
      },
      "source": [
        "##### Referência:\n",
        "###### Negnevitsky, M., \"Artificial Intelligence: A Guide to Intelligent Systems\", Addison Wesley, Harlow, England, 2002. Sec. 7.5"
      ]
    },
    {
      "cell_type": "markdown",
      "metadata": {
        "id": "yJt-102bZLF_"
      },
      "source": [
        "###Algoritmos Genéticos\n",
        "#### Autor: Airton Silva Mesquita Filho\n",
        "##### Universidade Federal do Ceará - Brazil - 2021\n",
        "##### ICA - Prof: AlmeidaJosé Almeida do Nascimento"
      ]
    },
    {
      "cell_type": "markdown",
      "metadata": {
        "id": "n6iwAfLlZUIY"
      },
      "source": [
        "Constraints and Optimum Criteria\n",
        "\n",
        "Unit Number | Unit Capac. | Number of Interv\n",
        "\n",
        "     1      |     20      |        2\n",
        "     2      |     15      |        2\n",
        "     3      |     35      |        1\n",
        "     4      |     40      |        1\n",
        "     5      |     15      |        1\n",
        "     6      |     15      |        1\n",
        "     7      |     10      |        1\n",
        "\n",
        "\n",
        "\n"
      ]
    },
    {
      "cell_type": "code",
      "metadata": {
        "id": "0wwum9zUYpOk"
      },
      "source": [
        "from random import randint\n",
        "import random\n",
        "import numpy as np\n",
        "import matplotlib.pyplot as plt"
      ],
      "execution_count": 94,
      "outputs": []
    },
    {
      "cell_type": "code",
      "metadata": {
        "id": "D0Y0HFC6Y2UX"
      },
      "source": [
        "unit1 = [\"1100\", \"0110\", \"0011\"]\n",
        "unit2 = [\"1100\", \"0110\", \"0011\"]\n",
        "unit3 = [\"1000\", \"0100\", \"0010\", \"0001\"]\n",
        "unit4 = [\"1000\", \"0100\", \"0010\", \"0001\"]\n",
        "unit5 = [\"1000\", \"0100\", \"0010\", \"0001\"]\n",
        "unit6 = [\"1000\", \"0100\", \"0010\", \"0001\"]\n",
        "unit7 = [\"1000\", \"0100\", \"0010\", \"0001\"]\n",
        "\n",
        "totalCapacity = 150\n",
        "\n",
        "maxLoadByInterval = [80, 90, 65, 70]"
      ],
      "execution_count": 95,
      "outputs": []
    },
    {
      "cell_type": "markdown",
      "metadata": {
        "id": "SpbOBSldZxwI"
      },
      "source": [
        "Now we're gonna define a fitness function to evaluate the chromosome performance"
      ]
    },
    {
      "cell_type": "code",
      "metadata": {
        "id": "1AwHi3V3Z0Au"
      },
      "source": [
        "def fitnessEvaluate(chromosome):\n",
        "    interval = [0, 0, 0, 0]\n",
        "    for i in range(4):\n",
        "        interval[i] = 20*(int(chromosome[0][i])) + 15*(int(chromosome[1][i])) + 35*(int(chromosome[2][i])) + 40*(int(chromosome[3][i])) + 15*(int(chromosome[4][i])) + 15*(int(chromosome[5][i])) + 10*(int(chromosome[6][i]))\n",
        "        interval[i] = totalCapacity - interval[i] - maxLoadByInterval[i]\n",
        "    return min(interval)\n",
        "\n",
        "def evaluate(pop, n):\n",
        "    result = []\n",
        "    for i in range(n):\n",
        "        if(fitnessEvaluate(pop[i]) <= 0):\n",
        "            result.append(1)\n",
        "        else:\n",
        "            result.append(fitnessEvaluate(pop[i]))\n",
        "    return result        "
      ],
      "execution_count": 96,
      "outputs": []
    },
    {
      "cell_type": "markdown",
      "metadata": {
        "id": "_3ixngHaZ2iQ"
      },
      "source": [
        "Now we're gonna construct the genetic operators"
      ]
    },
    {
      "cell_type": "code",
      "metadata": {
        "id": "ayTE58ccZ4fY"
      },
      "source": [
        "def crossoverOperator(pop, pairs, pc):\n",
        "    sons = []\n",
        "    n_units = len(pop[0])\n",
        "    for pair in pairs:\n",
        "        prob = random.random()\n",
        "        if prob <= pc:\n",
        "            cut = random.randint(1,n_units - 1)\n",
        "            son1 = pop[pair[0]][0:cut] + pop[pair[1]][cut:n_units]\n",
        "            son2 = pop[pair[1]][0:cut] + pop[pair[0]][cut:n_units] \n",
        "        else:\n",
        "            son1 = pop[pair[0]]\n",
        "            son2 = pop[pair[1]]\n",
        "        sons.append(son1)\n",
        "        sons.append(son2)\n",
        "    return sons\n",
        "\n",
        "def mutationOperation(pop, pm):\n",
        "    n_units = len(pop[0])\n",
        "    for p  in pop:\n",
        "        for n in range(n_units):\n",
        "            prob = random.random()\n",
        "            if prob <= pm:\n",
        "                if n==0 or n==1:\n",
        "                    posible_choices = [x for x in unit1 if x!=p[n]]\n",
        "                else:\n",
        "                    posible_choices = [x for x in unit3 if x!=p[n]]\n",
        "                    gene = random.choice(posible_choices)\n",
        "                    p[n] = gene\n",
        "    return pop\n",
        "\n",
        "def roulette(results):\n",
        "    total = sum(results)   \n",
        "    percents = list(map(lambda x:x/total,results)) \n",
        "    index = list(range(len(results)))\n",
        "    p1 = random.choices(index,weights=percents)[0]\n",
        "    p2 = random.choices([x for x in index if x != p1],weights= [percents[i] for i in range(len(percents)) if i!= p1])[0] \n",
        "\n",
        "    return p1,p2\n",
        "\n",
        "def apply_roulette(f_results,n_pop):\n",
        "    results = f_results.copy()\n",
        "    pairs = []\n",
        "    for i in range(n_pop//2):\n",
        "        p1,p2 = roulette(results)\n",
        "        pairs.append([p1,p2])\n",
        "        results[p1] = 0\n",
        "        results[p2] = 0\n",
        "\n",
        "    return pairs\n",
        "\n",
        "def new_generation(results,sons_results,pop,sons):\n",
        "    new_pop = []\n",
        "    n_pop = len(results)  \n",
        "    \n",
        "    total_results = results + sons_results\n",
        "    indexes = np.argsort(total_results)[::-1]\n",
        "    indexes = indexes[0:n_pop]\n",
        "\n",
        "    for idx in indexes :\n",
        "        if idx >= n_pop:\n",
        "            pos = idx - n_pop\n",
        "            new_pop.append(sons[pos])\n",
        "        else :\n",
        "            new_pop.append(pop[idx])\n",
        "    return new_pop"
      ],
      "execution_count": 97,
      "outputs": []
    },
    {
      "cell_type": "markdown",
      "metadata": {
        "id": "MtNY9DmCZ9a_"
      },
      "source": [
        "Now we're gonna define the initial population and create the loop that will run the algorithms"
      ]
    },
    {
      "cell_type": "code",
      "metadata": {
        "id": "FD6jkZ1rZ_SA"
      },
      "source": [
        "n = 20 # Population Size\n",
        "pc = 0.7 # Crossover Probability\n",
        "pm = 0.01 # Mutation Probability\n",
        "maxNumGen = 100\n",
        "\n",
        "initialPop = []\n",
        "for i in range(n):\n",
        "    pop = [\"\"]*7\n",
        "    for j in range(7):\n",
        "        if(j == 0 or j == 1):\n",
        "            pop[j] = unit1[randint(0,2)]\n",
        "        else:\n",
        "            pop[j] = unit3[randint(0,3)]\n",
        "    initialPop.append(pop)\n",
        "\n",
        "population = initialPop.copy()\n",
        "fitness_avg = []\n",
        "\n",
        "for i in range(maxNumGen):\n",
        "    results = evaluate(population, n)\n",
        "    \n",
        "    pairs = apply_roulette(results, n)\n",
        "\n",
        "    nextGenPop = crossoverOperator(population, pairs, pc)\n",
        "    nextGenPop = mutationOperation(nextGenPop, pm)\n",
        "\n",
        "    nextGen_results = evaluate(nextGenPop, n)\n",
        "\n",
        "    newPopulation = new_generation(results, nextGen_results, population, nextGenPop)\n",
        "\n",
        "    newPop_results = evaluate(newPopulation, n)\n",
        "\n",
        "    avg_result = np.mean(newPop_results)\n",
        "    fitness_avg.append(avg_result)\n",
        "\n",
        "    population = newPopulation"
      ],
      "execution_count": 98,
      "outputs": []
    },
    {
      "cell_type": "code",
      "metadata": {
        "colab": {
          "base_uri": "https://localhost:8080/",
          "height": 312
        },
        "id": "ZoohS7pkabng",
        "outputId": "6d962890-320d-49d1-f274-fafd7bcfd9df"
      },
      "source": [
        "ger = list(range(0,maxNumGen))\n",
        "plt.plot(ger,fitness_avg, color = 'red')\n",
        "plt.title(\"N = 20, pc = 0.7, pm = 0.01\")\n",
        "plt.xlabel(\"Generations\")\n",
        "plt.ylabel(\"Fitness\")"
      ],
      "execution_count": 100,
      "outputs": [
        {
          "output_type": "execute_result",
          "data": {
            "text/plain": [
              "Text(0, 0.5, 'Fitness')"
            ]
          },
          "metadata": {
            "tags": []
          },
          "execution_count": 100
        },
        {
          "output_type": "display_data",
          "data": {
            "image/png": "[encoded data removed]",
            "text/plain": [
              "<Figure size 432x288 with 1 Axes>"
            ]
          },
          "metadata": {
            "tags": [],
            "needs_background": "light"
          }
        }
      ]
    }
  ]
}